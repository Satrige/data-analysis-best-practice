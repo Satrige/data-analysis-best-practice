{
 "cells": [
  {
   "cell_type": "markdown",
   "id": "f73ccab1",
   "metadata": {},
   "source": [
    "# 1. Show all missing data\n",
    "\n",
    "Show and sort all missing data"
   ]
  },
  {
   "cell_type": "code",
   "execution_count": null,
   "id": "e2caec71",
   "metadata": {},
   "outputs": [],
   "source": [
    "#missing data\n",
    "total = len(df_train)\n",
    "sum_null_values = df_train.isnull().sum()\n",
    "total_null_values = sum_null_values.sort_values(ascending = False)\n",
    "\n",
    "percent = (sum_null_values / total).sort_values(ascending = False)\n",
    "missing_data = pd.concat([total_null_values, percent], axis = 1, keys = ['Total', 'Percent'])\n",
    "missing_data.head(20)"
   ]
  }
 ],
 "metadata": {
  "kernelspec": {
   "display_name": "Python 3 (ipykernel)",
   "language": "python",
   "name": "python3"
  },
  "language_info": {
   "codemirror_mode": {
    "name": "ipython",
    "version": 3
   },
   "file_extension": ".py",
   "mimetype": "text/x-python",
   "name": "python",
   "nbconvert_exporter": "python",
   "pygments_lexer": "ipython3",
   "version": "3.8.10"
  }
 },
 "nbformat": 4,
 "nbformat_minor": 5
}

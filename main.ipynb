{
 "cells": [
  {
   "cell_type": "markdown",
   "id": "683e9082",
   "metadata": {},
   "source": [
    "# 1. Show all missing data\n",
    "\n",
    "Show and sort all missing data"
   ]
  },
  {
   "cell_type": "code",
   "execution_count": null,
   "id": "9e826681",
   "metadata": {},
   "outputs": [],
   "source": [
    "#missing data\n",
    "total = len(df_train)\n",
    "sum_null_values = df_train.isnull().sum()\n",
    "total_null_values = sum_null_values.sort_values(ascending = False)\n",
    "\n",
    "percent = (sum_null_values / total).sort_values(ascending = False)\n",
    "missing_data = pd.concat([total_null_values, percent], axis = 1, keys = ['Total', 'Percent'])\n",
    "missing_data.head(20)"
   ]
  },
  {
   "cell_type": "markdown",
   "id": "4a1987a8",
   "metadata": {},
   "source": [
    "# 2. Correlation heatmap\n",
    "Show heatmap of correlation between features"
   ]
  },
  {
   "cell_type": "code",
   "execution_count": null,
   "id": "12e1d091",
   "metadata": {},
   "outputs": [],
   "source": [
    "corr = df_train.corr()\n",
    "plt.figure(figsize = (12, 9))\n",
    "sns.heatmap(corr, vmax = 0.8, square = True)"
   ]
  }
 ],
 "metadata": {
  "kernelspec": {
   "display_name": "Python 3 (ipykernel)",
   "language": "python",
   "name": "python3"
  },
  "language_info": {
   "codemirror_mode": {
    "name": "ipython",
    "version": 3
   },
   "file_extension": ".py",
   "mimetype": "text/x-python",
   "name": "python",
   "nbconvert_exporter": "python",
   "pygments_lexer": "ipython3",
   "version": "3.8.10"
  }
 },
 "nbformat": 4,
 "nbformat_minor": 5
}
